{
 "cells": [
  {
   "cell_type": "markdown",
   "id": "91093235-5f3c-4ced-9b8d-8b54b5b3c36e",
   "metadata": {},
   "source": [
    "Run with Python 3.8\n",
    "\n",
    "***This notebook generates Figure S3 in Appendix S1.***\n",
    "\n",
    "* Python 3.8\n",
    "* pandas 2.0.3\n",
    "* numpy 1.24.3\n",
    "* matplotlib 3.6.0"
   ]
  },
  {
   "cell_type": "code",
   "execution_count": 1,
   "id": "a76b779c-c6f6-4e45-b6c5-7525d8761a03",
   "metadata": {},
   "outputs": [],
   "source": [
    "# Import standard libraries\n",
    "import os\n",
    "import copy\n",
    "\n",
    "# Import published packages from PyPI\n",
    "import pandas as pd\n",
    "import numpy as np\n",
    "import matplotlib.pyplot as plt"
   ]
  },
  {
   "cell_type": "markdown",
   "id": "4c5383c0-25f2-4134-b636-1c4cd6bbe791",
   "metadata": {},
   "source": [
    "**Specify directories**"
   ]
  },
  {
   "cell_type": "code",
   "execution_count": 2,
   "id": "025b7b37-87ea-4a1b-8066-d9aee68c5269",
   "metadata": {},
   "outputs": [],
   "source": [
    "DATA_IN = 'datasets'\n",
    "DATA_OUT = 'out'"
   ]
  },
  {
   "cell_type": "markdown",
   "id": "bbbc21fe-3de8-40b2-bbc7-79589bca7de3",
   "metadata": {},
   "source": [
    "# Load data"
   ]
  },
  {
   "cell_type": "markdown",
   "id": "1aaf6d98-e377-4495-8924-1372cc506c2a",
   "metadata": {},
   "source": [
    "Original data from https://datadryad.org/stash/dataset/doi:10.5061%2Fdryad.84fq2vh\n",
    "\n",
    "Time period of entire dataset: 12/31/2000 9PM through 12/31/2022 2AM\n",
    "\n",
    "Note there is a slight difference between the data published online versus data in the `datasets` folder, due to minor errors in data processing caught after publication especially for the 2011 time series. Data from 2016 through 2022 have not yet been published."
   ]
  },
  {
   "cell_type": "code",
   "execution_count": 3,
   "id": "602738c8-a6be-423b-ab75-8f131a9d6609",
   "metadata": {},
   "outputs": [],
   "source": [
    "# Time period: 12/31/2000 9PM through 12/31/2022 2AM\n",
    "raw_anuran_df = pd.read_csv(\n",
    "    os.path.join(DATA_IN, 'nightlycalls.csv'), \n",
    "    index_col = False, \n",
    "    parse_dates = ['date']\n",
    ")"
   ]
  },
  {
   "cell_type": "markdown",
   "id": "e68165b4-915d-480b-9141-9c9df3cc68db",
   "metadata": {},
   "source": [
    "# Data wrangling"
   ]
  },
  {
   "cell_type": "code",
   "execution_count": 4,
   "id": "79363855-ad79-4922-b9bc-ced0f5da8a30",
   "metadata": {},
   "outputs": [],
   "source": [
    "raw_anuran_df.rename(\n",
    "    columns = {'year': 'calendar_year', 'date': 'date_obj'}, \n",
    "    inplace = True\n",
    ")"
   ]
  },
  {
   "cell_type": "markdown",
   "id": "60057d3d-2617-4fcb-b50e-78b1ee3d7cbd",
   "metadata": {},
   "source": [
    "**Remove any duplicate data**"
   ]
  },
  {
   "cell_type": "code",
   "execution_count": 5,
   "id": "177b3ac1-a94d-4f3b-ac1b-adf3847ff140",
   "metadata": {},
   "outputs": [],
   "source": [
    "raw_anuran_df.drop_duplicates(inplace = True, ignore_index = True)"
   ]
  },
  {
   "cell_type": "markdown",
   "id": "2d82fba7-5ca8-43c9-8728-22ec858614e9",
   "metadata": {},
   "source": [
    "**Address null values**"
   ]
  },
  {
   "cell_type": "code",
   "execution_count": 6,
   "id": "ffa4ef2a-ec16-4e4d-a5d4-6205c1c28d91",
   "metadata": {},
   "outputs": [
    {
     "data": {
      "text/plain": [
       "pond             False\n",
       "date_obj         False\n",
       "sp               False\n",
       "nightlysum        True\n",
       "calendar_year    False\n",
       "doy              False\n",
       "dtype: bool"
      ]
     },
     "execution_count": 6,
     "metadata": {},
     "output_type": "execute_result"
    }
   ],
   "source": [
    "# should only be null values in nightlysum column for when data loggers cut out \n",
    "#  for unclear reasons\n",
    "raw_anuran_df.isnull().any()"
   ]
  },
  {
   "cell_type": "markdown",
   "id": "81c3eba8-5412-4069-a732-6115c927e1c2",
   "metadata": {},
   "source": [
    "**Correct data types**"
   ]
  },
  {
   "cell_type": "code",
   "execution_count": 7,
   "id": "4e38ab21-4fde-4a57-af1e-40442838c9e2",
   "metadata": {},
   "outputs": [
    {
     "data": {
      "text/html": [
       "<div>\n",
       "<style scoped>\n",
       "    .dataframe tbody tr th:only-of-type {\n",
       "        vertical-align: middle;\n",
       "    }\n",
       "\n",
       "    .dataframe tbody tr th {\n",
       "        vertical-align: top;\n",
       "    }\n",
       "\n",
       "    .dataframe thead th {\n",
       "        text-align: right;\n",
       "    }\n",
       "</style>\n",
       "<table border=\"1\" class=\"dataframe\">\n",
       "  <thead>\n",
       "    <tr style=\"text-align: right;\">\n",
       "      <th></th>\n",
       "      <th>pond</th>\n",
       "      <th>date_obj</th>\n",
       "      <th>sp</th>\n",
       "      <th>nightlysum</th>\n",
       "      <th>calendar_year</th>\n",
       "      <th>doy</th>\n",
       "    </tr>\n",
       "  </thead>\n",
       "  <tbody>\n",
       "    <tr>\n",
       "      <th>0</th>\n",
       "      <td>1</td>\n",
       "      <td>2000-12-31</td>\n",
       "      <td>HV</td>\n",
       "      <td>0.0</td>\n",
       "      <td>2000</td>\n",
       "      <td>366</td>\n",
       "    </tr>\n",
       "    <tr>\n",
       "      <th>1</th>\n",
       "      <td>1</td>\n",
       "      <td>2000-12-31</td>\n",
       "      <td>HC</td>\n",
       "      <td>0.0</td>\n",
       "      <td>2000</td>\n",
       "      <td>366</td>\n",
       "    </tr>\n",
       "    <tr>\n",
       "      <th>2</th>\n",
       "      <td>1</td>\n",
       "      <td>2000-12-31</td>\n",
       "      <td>BV</td>\n",
       "      <td>0.0</td>\n",
       "      <td>2000</td>\n",
       "      <td>366</td>\n",
       "    </tr>\n",
       "    <tr>\n",
       "      <th>3</th>\n",
       "      <td>1</td>\n",
       "      <td>2000-12-31</td>\n",
       "      <td>BW</td>\n",
       "      <td>0.0</td>\n",
       "      <td>2000</td>\n",
       "      <td>366</td>\n",
       "    </tr>\n",
       "    <tr>\n",
       "      <th>4</th>\n",
       "      <td>1</td>\n",
       "      <td>2000-12-31</td>\n",
       "      <td>RCA</td>\n",
       "      <td>0.0</td>\n",
       "      <td>2000</td>\n",
       "      <td>366</td>\n",
       "    </tr>\n",
       "  </tbody>\n",
       "</table>\n",
       "</div>"
      ],
      "text/plain": [
       "   pond   date_obj   sp  nightlysum  calendar_year  doy\n",
       "0     1 2000-12-31   HV         0.0           2000  366\n",
       "1     1 2000-12-31   HC         0.0           2000  366\n",
       "2     1 2000-12-31   BV         0.0           2000  366\n",
       "3     1 2000-12-31   BW         0.0           2000  366\n",
       "4     1 2000-12-31  RCA         0.0           2000  366"
      ]
     },
     "execution_count": 7,
     "metadata": {},
     "output_type": "execute_result"
    }
   ],
   "source": [
    "base_anuran_df = raw_anuran_df.astype({\n",
    "    'pond': np.int8, \n",
    "    'calendar_year': np.int16, \n",
    "    'doy': np.int16, \n",
    "})\n",
    "base_anuran_df.head()"
   ]
  },
  {
   "cell_type": "markdown",
   "id": "f50a8c50-e9c5-4ff6-9fb8-a8c47d3e89dd",
   "metadata": {},
   "source": [
    "**Add helpful columns**\n",
    "\n",
    "`sampling_year`: year of the last 3 hours of nightly data, which standardizes the number of data entries per year"
   ]
  },
  {
   "cell_type": "code",
   "execution_count": 8,
   "id": "4605f02e-8233-46e8-96c3-2c4f522b4a0c",
   "metadata": {},
   "outputs": [],
   "source": [
    "# Helper functions\n",
    "\n",
    "def sampling_year(date_obj: str, year: int):\n",
    "    if date_obj.month == 12 and date_obj.day == 31:\n",
    "        return year + 1\n",
    "    return year"
   ]
  },
  {
   "cell_type": "code",
   "execution_count": 9,
   "id": "58f0ddc0-78f5-4d3a-9949-84f5aa5383ac",
   "metadata": {},
   "outputs": [
    {
     "data": {
      "text/html": [
       "<div>\n",
       "<style scoped>\n",
       "    .dataframe tbody tr th:only-of-type {\n",
       "        vertical-align: middle;\n",
       "    }\n",
       "\n",
       "    .dataframe tbody tr th {\n",
       "        vertical-align: top;\n",
       "    }\n",
       "\n",
       "    .dataframe thead th {\n",
       "        text-align: right;\n",
       "    }\n",
       "</style>\n",
       "<table border=\"1\" class=\"dataframe\">\n",
       "  <thead>\n",
       "    <tr style=\"text-align: right;\">\n",
       "      <th></th>\n",
       "      <th>pond</th>\n",
       "      <th>date_obj</th>\n",
       "      <th>sp</th>\n",
       "      <th>nightlysum</th>\n",
       "      <th>calendar_year</th>\n",
       "      <th>doy</th>\n",
       "      <th>sampling_year</th>\n",
       "    </tr>\n",
       "  </thead>\n",
       "  <tbody>\n",
       "    <tr>\n",
       "      <th>0</th>\n",
       "      <td>1</td>\n",
       "      <td>2000-12-31</td>\n",
       "      <td>HV</td>\n",
       "      <td>0.0</td>\n",
       "      <td>2000</td>\n",
       "      <td>366</td>\n",
       "      <td>2001</td>\n",
       "    </tr>\n",
       "    <tr>\n",
       "      <th>1</th>\n",
       "      <td>1</td>\n",
       "      <td>2000-12-31</td>\n",
       "      <td>HC</td>\n",
       "      <td>0.0</td>\n",
       "      <td>2000</td>\n",
       "      <td>366</td>\n",
       "      <td>2001</td>\n",
       "    </tr>\n",
       "    <tr>\n",
       "      <th>2</th>\n",
       "      <td>1</td>\n",
       "      <td>2000-12-31</td>\n",
       "      <td>BV</td>\n",
       "      <td>0.0</td>\n",
       "      <td>2000</td>\n",
       "      <td>366</td>\n",
       "      <td>2001</td>\n",
       "    </tr>\n",
       "    <tr>\n",
       "      <th>3</th>\n",
       "      <td>1</td>\n",
       "      <td>2000-12-31</td>\n",
       "      <td>BW</td>\n",
       "      <td>0.0</td>\n",
       "      <td>2000</td>\n",
       "      <td>366</td>\n",
       "      <td>2001</td>\n",
       "    </tr>\n",
       "    <tr>\n",
       "      <th>4</th>\n",
       "      <td>1</td>\n",
       "      <td>2000-12-31</td>\n",
       "      <td>RCA</td>\n",
       "      <td>0.0</td>\n",
       "      <td>2000</td>\n",
       "      <td>366</td>\n",
       "      <td>2001</td>\n",
       "    </tr>\n",
       "  </tbody>\n",
       "</table>\n",
       "</div>"
      ],
      "text/plain": [
       "   pond   date_obj   sp  nightlysum  calendar_year  doy  sampling_year\n",
       "0     1 2000-12-31   HV         0.0           2000  366           2001\n",
       "1     1 2000-12-31   HC         0.0           2000  366           2001\n",
       "2     1 2000-12-31   BV         0.0           2000  366           2001\n",
       "3     1 2000-12-31   BW         0.0           2000  366           2001\n",
       "4     1 2000-12-31  RCA         0.0           2000  366           2001"
      ]
     },
     "execution_count": 9,
     "metadata": {},
     "output_type": "execute_result"
    }
   ],
   "source": [
    "base_anuran_df['sampling_year'] = base_anuran_df.apply(\n",
    "    lambda x: sampling_year(x.date_obj, x.calendar_year), \n",
    "    axis = 1\n",
    ")\n",
    "\n",
    "base_anuran_df.head()"
   ]
  },
  {
   "cell_type": "markdown",
   "id": "0c157e8b-8f6d-4409-9486-eb22d53f172f",
   "metadata": {},
   "source": [
    "# Rana sphenocephala activity"
   ]
  },
  {
   "cell_type": "code",
   "execution_count": 11,
   "id": "8732ff2a-af40-4849-9025-5c0af0c5327a",
   "metadata": {},
   "outputs": [],
   "source": [
    "RS_df = base_anuran_df.loc[base_anuran_df['sp'] == \"RS\"]\n",
    "RS_null_df = RS_df.loc[RS_df['nightlysum'].isnull()]\n",
    "RS_active_df = RS_df.loc[RS_df['nightlysum'] > 0]\n",
    "RS_inactive_df = RS_df.loc[RS_df['nightlysum'] == 0]"
   ]
  },
  {
   "cell_type": "code",
   "execution_count": 12,
   "id": "474a6911-3636-4a6f-98b4-f113d98ae5bf",
   "metadata": {},
   "outputs": [],
   "source": [
    "RS_inactive_doys_across_ponds_dict = {}\n",
    "for y, group in RS_inactive_df.groupby('sampling_year')['doy']:\n",
    "    active_doys_year = set(RS_active_df.loc[\n",
    "        RS_active_df['sampling_year'] == y \n",
    "    ]['doy'])\n",
    "    RS_inactive_doys_across_ponds_dict[y] = set(group) - active_doys_year\n",
    "\n",
    "# get corresponding df's for next step\n",
    "RS_inactive_doys_across_ponds_df_list = []\n",
    "for y, group in RS_df.groupby('sampling_year'):\n",
    "    if len(RS_inactive_doys_across_ponds_dict[y]) > 0:\n",
    "        RS_inactive_doys_across_ponds_df_list.append(\n",
    "            group[group['doy'].isin(RS_inactive_doys_across_ponds_dict[y])]\n",
    "        )\n",
    "RS_inactive_doys_across_ponds_df = pd.concat(\n",
    "    RS_inactive_doys_across_ponds_df_list\n",
    ")\n",
    "\n",
    "# select subset in RS_inactive_doys_across_ponds_dict when we consider species \n",
    "#  as inactive, using inactivity in under half of ponds to remove semi-active \n",
    "#  days of year\n",
    "RS_no_obs_doys_dict = {}\n",
    "for y, group in RS_inactive_doys_across_ponds_df.groupby('sampling_year'):\n",
    "    RS_no_obs_doys_dict[y] = copy.deepcopy(\n",
    "        RS_inactive_doys_across_ponds_dict[y]\n",
    "    )\n",
    "    for doy, g in group.groupby('doy'):\n",
    "        if len(set(g['pond'])) < 0.5 * len(\n",
    "            base_anuran_df['pond'].unique()\n",
    "        ):\n",
    "            RS_no_obs_doys_dict[y] -= doy"
   ]
  },
  {
   "cell_type": "code",
   "execution_count": 13,
   "id": "2fd839b8-b1ce-43a6-93ab-32d925088b69",
   "metadata": {},
   "outputs": [
    {
     "data": {
      "image/png": "[encoded data removed]",
      "text/plain": [
       "<Figure size 1771.65x551.181 with 1 Axes>"
      ]
     },
     "metadata": {},
     "output_type": "display_data"
    },
    {
     "name": "stdout",
     "output_type": "stream",
     "text": [
      "Days of year always active:  {264, 66, 269}\n"
     ]
    }
   ],
   "source": [
    "RS_no_obs_doys_counts_list = []\n",
    "RS_no_obs_doys_list = []\n",
    "years = np.arange(2001, 2023)\n",
    "for y, _ in RS_no_obs_doys_dict.items():\n",
    "    RS_no_obs_doys_list += RS_no_obs_doys_dict[y]\n",
    "for doy in sorted(set(RS_no_obs_doys_list)):\n",
    "    RS_no_obs_doys_counts_list += [RS_no_obs_doys_list.count(doy)]\n",
    "\n",
    "# x is doy, y is count of each doy\n",
    "cm = 1 / 2.54  # centimeters in inches for figsize default units\n",
    "fig, ax = plt.subplots(figsize = (45 * cm, 14 * cm))\n",
    "ax.stem(\n",
    "    sorted(set(RS_no_obs_doys_list)), \n",
    "    RS_no_obs_doys_counts_list\n",
    ")\n",
    "ax.set(\n",
    "    xlim = (0, 368), \n",
    "    xticks = np.linspace(start = 0, stop = 370, num = 38), \n",
    "    ylim = (0, len(years) + 1)\n",
    ")\n",
    "ax.set_xlabel(\n",
    "    xlabel = \"Calendar day of year with no observed calls in ≥50% of ponds\", \n",
    "    fontsize = 16.0\n",
    ")\n",
    "ax.set_ylabel(\n",
    "    ylabel = \"# of instances across years 2001-2022\", \n",
    "    fontsize = 16.0\n",
    ")\n",
    "ax.tick_params(axis = 'both', which = 'major', labelsize = 12.5)\n",
    "plt.show()\n",
    "fig.savefig(\n",
    "    os.path.join(DATA_OUT, 'figure_s3.png'), \n",
    "    bbox_inches = 'tight', \n",
    "    dpi = 300\n",
    ")\n",
    "\n",
    "# this study selected days of year 66 and 264 to define \"spring\" and \"fall\"\n",
    "#  R. sphenocephala calling phenophases\n",
    "print(\n",
    "    \"Days of year always active: \", \n",
    "    set(range(1, 367)) - set(RS_no_obs_doys_list)\n",
    ")"
   ]
  },
  {
   "cell_type": "code",
   "execution_count": null,
   "id": "f20d40df-edd2-40cf-b689-4e63f7abfd72",
   "metadata": {},
   "outputs": [],
   "source": []
  }
 ],
 "metadata": {
  "kernelspec": {
   "display_name": "Python 3 (ipykernel)",
   "language": "python",
   "name": "python3"
  },
  "language_info": {
   "codemirror_mode": {
    "name": "ipython",
    "version": 3
   },
   "file_extension": ".py",
   "mimetype": "text/x-python",
   "name": "python",
   "nbconvert_exporter": "python",
   "pygments_lexer": "ipython3",
   "version": "3.8.7"
  }
 },
 "nbformat": 4,
 "nbformat_minor": 5
}
